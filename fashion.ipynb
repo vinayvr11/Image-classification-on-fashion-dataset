{
 "cells": [
  {
   "cell_type": "code",
   "execution_count": 1,
   "metadata": {},
   "outputs": [],
   "source": [
    "import tensorflow as tf"
   ]
  },
  {
   "cell_type": "code",
   "execution_count": 2,
   "metadata": {},
   "outputs": [],
   "source": [
    "import numpy as np\n",
    "import pandas as pd\n",
    "from sklearn.model_selection import train_test_split"
   ]
  },
  {
   "cell_type": "code",
   "execution_count": 4,
   "metadata": {},
   "outputs": [],
   "source": [
    "data = pd.read_csv('train.csv')\n",
    "x = data.drop('label',axis=1)\n",
    "y = data['label']"
   ]
  },
  {
   "cell_type": "code",
   "execution_count": 5,
   "metadata": {},
   "outputs": [],
   "source": [
    "x_train,x_test,y_train,y_test = train_test_split(x,y,test_size=0.2)\n",
    "x_train,x_test = x_train/255.0,x_test/255.0\n",
    "x_train,x_test = np.c_[x_train],np.c_[x_test]\n",
    "X_train = x_train.reshape(x_train.shape[0], 28, 28)\n",
    "X_test = x_test.reshape(x_test.shape[0],28,28)"
   ]
  },
  {
   "cell_type": "code",
   "execution_count": 6,
   "metadata": {},
   "outputs": [
    {
     "name": "stdout",
     "output_type": "stream",
     "text": [
      "Epoch 1/10\n",
      "33600/33600 [==============================] - 3s 99us/step - loss: 0.3697 - acc: 0.8921\n",
      "Epoch 2/10\n",
      "33600/33600 [==============================] - 2s 53us/step - loss: 0.1793 - acc: 0.9468\n",
      "Epoch 3/10\n",
      "33600/33600 [==============================] - 2s 51us/step - loss: 0.1322 - acc: 0.9608\n",
      "Epoch 4/10\n",
      "33600/33600 [==============================] - 2s 57us/step - loss: 0.1030 - acc: 0.9686\n",
      "Epoch 5/10\n",
      "33600/33600 [==============================] - 2s 54us/step - loss: 0.0858 - acc: 0.9742\n",
      "Epoch 6/10\n",
      "33600/33600 [==============================] - 2s 55us/step - loss: 0.0748 - acc: 0.9765\n",
      "Epoch 7/10\n",
      "33600/33600 [==============================] - 2s 53us/step - loss: 0.0653 - acc: 0.9799\n",
      "Epoch 8/10\n",
      "33600/33600 [==============================] - 2s 56us/step - loss: 0.0559 - acc: 0.9825\n",
      "Epoch 9/10\n",
      "33600/33600 [==============================] - 2s 53us/step - loss: 0.0501 - acc: 0.9836\n",
      "Epoch 10/10\n",
      "33600/33600 [==============================] - 2s 51us/step - loss: 0.0451 - acc: 0.9850\n",
      "8400/8400 [==============================] - 0s 23us/step\n"
     ]
    },
    {
     "data": {
      "text/plain": [
       "[0.0903305134631782, 0.9732142857142857]"
      ]
     },
     "execution_count": 6,
     "metadata": {},
     "output_type": "execute_result"
    }
   ],
   "source": [
    "\n",
    "model = tf.keras.models.Sequential([\n",
    "    tf.keras.layers.Flatten(input_shape=(28,28)),\n",
    "    tf.keras.layers.Dense(125,activation=tf.nn.relu),\n",
    "    tf.keras.layers.Dropout(0.2),\n",
    "    tf.keras.layers.Dense(10,activation=tf.nn.softmax)\n",
    "])\n",
    "model.compile(optimizer='adam',\n",
    "             loss='sparse_categorical_crossentropy',\n",
    "             metrics=['accuracy'])\n",
    "model.fit(X_train,y_train,epochs=10)\n",
    "model.evaluate(X_test,y_test)"
   ]
  },
  {
   "cell_type": "code",
   "execution_count": 7,
   "metadata": {},
   "outputs": [],
   "source": [
    "pre = model.predict(X_test)"
   ]
  },
  {
   "cell_type": "code",
   "execution_count": 9,
   "metadata": {},
   "outputs": [
    {
     "data": {
      "text/plain": [
       "array([9.8832356e-09, 2.5564544e-09, 3.4544826e-02, 5.5085499e-11,\n",
       "       9.5554769e-01, 1.3068298e-10, 9.9074244e-03, 7.5979576e-13,\n",
       "       1.3284394e-11, 2.2679677e-12], dtype=float32)"
      ]
     },
     "execution_count": 9,
     "metadata": {},
     "output_type": "execute_result"
    }
   ],
   "source": [
    "pre[0]"
   ]
  },
  {
   "cell_type": "code",
   "execution_count": 17,
   "metadata": {},
   "outputs": [
    {
     "data": {
      "text/plain": [
       "0"
      ]
     },
     "execution_count": 17,
     "metadata": {},
     "output_type": "execute_result"
    }
   ],
   "source": [
    "np.argmax(pre[3])"
   ]
  },
  {
   "cell_type": "code",
   "execution_count": 57,
   "metadata": {},
   "outputs": [
    {
     "data": {
      "image/png": "[encoded data removed]",
      "text/plain": [
       "<Figure size 432x216 with 2 Axes>"
      ]
     },
     "metadata": {
      "needs_background": "light"
     },
     "output_type": "display_data"
    }
   ],
   "source": [
    "from matplotlib import pyplot as plt\n",
    "\n",
    "def check(value,xx_test,real_y,predicted_y):\n",
    "    if real_y[take] == np.argmax(predicted_y[value]):\n",
    "        plt.imshow(xx_test[value],cmap=plt.cm.binary)\n",
    "    else:\n",
    "        print('Wrong prediction')\n",
    "\n",
    "def plot_value_array(i, predictions_array):\n",
    "  predictions_array = predictions_array[i]\n",
    "  plt.grid(False)\n",
    "  plt.xticks([])\n",
    "  plt.yticks([])\n",
    "  thisplot = plt.bar(range(10), predictions_array, color=\"#777777\")\n",
    "  plt.ylim([0, 1]) \n",
    "  predicted_label = np.argmax(predictions_array)\n",
    " \n",
    "  thisplot[predicted_label].set_color('red')       \n",
    "\n",
    "take = 700\n",
    "yt = np.array(y_test)\n",
    "\n",
    "plt.figure(figsize=(6,3))\n",
    "plt.subplot(1,2,1)\n",
    "check(take,X_test,yt,pre)\n",
    "\n",
    "plt.subplot(1,2,2)\n",
    "plot_value_array(take,pre)"
   ]
  },
  {
   "cell_type": "code",
   "execution_count": null,
   "metadata": {},
   "outputs": [],
   "source": []
  },
  {
   "cell_type": "code",
   "execution_count": null,
   "metadata": {},
   "outputs": [],
   "source": []
  },
  {
   "cell_type": "code",
   "execution_count": null,
   "metadata": {},
   "outputs": [],
   "source": []
  },
  {
   "cell_type": "code",
   "execution_count": null,
   "metadata": {},
   "outputs": [],
   "source": []
  }
 ],
 "metadata": {
  "kernelspec": {
   "display_name": "Python 3",
   "language": "python",
   "name": "python3"
  },
  "language_info": {
   "codemirror_mode": {
    "name": "ipython",
    "version": 3
   },
   "file_extension": ".py",
   "mimetype": "text/x-python",
   "name": "python",
   "nbconvert_exporter": "python",
   "pygments_lexer": "ipython3",
   "version": "3.6.8"
  }
 },
 "nbformat": 4,
 "nbformat_minor": 2
}
